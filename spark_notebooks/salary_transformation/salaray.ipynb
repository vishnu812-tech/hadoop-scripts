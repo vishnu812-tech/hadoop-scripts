{
 "cells": [
  {
   "cell_type": "code",
   "execution_count": 1,
   "id": "4f1d6d5c",
   "metadata": {},
   "outputs": [
    {
     "name": "stdout",
     "output_type": "stream",
     "text": [
      "25/07/11 13:01:51 WARN Utils: Your hostname, innominds resolves to a loopback address: 127.0.1.1; using 192.168.218.44 instead (on interface ens34)\n",
      "25/07/11 13:01:51 WARN Utils: Set SPARK_LOCAL_IP if you need to bind to another address\n"
     ]
    },
    {
     "name": "stderr",
     "output_type": "stream",
     "text": [
      "Setting default log level to \"WARN\".\n",
      "To adjust logging level use sc.setLogLevel(newLevel). For SparkR, use setLogLevel(newLevel).\n"
     ]
    },
    {
     "name": "stdout",
     "output_type": "stream",
     "text": [
      "25/07/11 13:01:52 WARN NativeCodeLoader: Unable to load native-hadoop library for your platform... using builtin-java classes where applicable\n",
      "25/07/11 13:01:54 WARN Utils: Service 'SparkUI' could not bind on port 4040. Attempting port 4041.\n"
     ]
    }
   ],
   "source": [
    "import findspark\n",
    "findspark.init(\"/opt/spark\")\n",
    "\n",
    "from pyspark.sql import SparkSession\n",
    "from pyspark.sql.functions import col, udf\n",
    "\n",
    "spark = SparkSession.builder \\\n",
    "    .appName(\"Test Local\") \\\n",
    "    .master(\"local[*]\") \\\n",
    "    .enableHiveSupport() \\\n",
    "    .getOrCreate()\n",
    "\n",
    "\n",
    "\n",
    "\n",
    "\n"
   ]
  },
  {
   "cell_type": "code",
   "execution_count": null,
   "id": "d3cc62fd",
   "metadata": {},
   "outputs": [],
   "source": [
    "df = spark.read \\\n",
    "    .format(\"csv\") \\\n",
    "    .option(\"inferschema\",True) \\\n",
    "    .option(\"header\",True)\\\n",
    "    .load(\"hdfs://localhost:9000/user/vishnu/raw/salaries.csv\")\n",
    "\n",
    "df.show()\n"
   ]
  },
  {
   "cell_type": "code",
   "execution_count": null,
   "id": "82c348e7",
   "metadata": {},
   "outputs": [
    {
     "name": "stdout",
     "output_type": "stream",
     "text": [
      "+---+------------------+--------------------+---------+-----------+---------+---------+----------------+----+-------------+\n",
      "| Id|      EmployeeName|            JobTitle|  BasePay|OvertimePay| OtherPay| TotalPay|TotalPayBenefits|Year|       Agency|\n",
      "+---+------------------+--------------------+---------+-----------+---------+---------+----------------+----+-------------+\n",
      "|  1|    NATHANIEL FORD|GENERAL MANAGER-M...|167411.18|        0.0|400184.25|567595.43|       567595.43|2011|San Francisco|\n",
      "|  2|      GARY JIMENEZ|CAPTAIN III (POLI...|155966.02|  245131.88|137811.38|538909.28|       538909.28|2011|San Francisco|\n",
      "|  3|    ALBERT PARDINI|CAPTAIN III (POLI...|212739.13|  106088.18|  16452.6|335279.91|       335279.91|2011|San Francisco|\n",
      "|  4| CHRISTOPHER CHONG|WIRE ROPE CABLE M...|  77916.0|   56120.71| 198306.9|332343.61|       332343.61|2011|San Francisco|\n",
      "|  5|   PATRICK GARDNER|DEPUTY CHIEF OF D...| 134401.6|     9737.0|182234.59|326373.19|       326373.19|2011|San Francisco|\n",
      "|  6|    DAVID SULLIVAN|ASSISTANT DEPUTY ...| 118602.0|     8601.0|189082.74|316285.74|       316285.74|2011|San Francisco|\n",
      "|  7|         ALSON LEE|BATTALION CHIEF, ...| 92492.01|    89062.9|134426.14|315981.05|       315981.05|2011|San Francisco|\n",
      "|  8|     DAVID KUSHNER|DEPUTY DIRECTOR O...|256576.96|        0.0|  51322.5|307899.46|       307899.46|2011|San Francisco|\n",
      "|  9|    MICHAEL MORRIS|BATTALION CHIEF, ...|176932.64|   86362.68| 40132.23|303427.55|       303427.55|2011|San Francisco|\n",
      "| 10|JOANNE HAYES-WHITE|CHIEF OF DEPARTME...| 285262.0|        0.0| 17115.73|302377.73|       302377.73|2011|San Francisco|\n",
      "| 11|     ARTHUR KENNEY|ASSISTANT CHIEF O...|194999.39|   71344.88|  33149.9|299494.17|       299494.17|2011|San Francisco|\n",
      "| 12|  PATRICIA JACKSON|CAPTAIN III (POLI...|  99722.0|   87082.62| 110804.3|297608.92|       297608.92|2011|San Francisco|\n",
      "| 13| EDWARD HARRINGTON|EXECUTIVE CONTRAC...|294580.02|        0.0|      0.0|294580.02|       294580.02|2011|San Francisco|\n",
      "| 14|       JOHN MARTIN|   DEPARTMENT HEAD V|271329.03|        0.0| 21342.59|292671.62|       292671.62|2011|San Francisco|\n",
      "| 15|    DAVID FRANKLIN|BATTALION CHIEF, ...|174872.64|    74050.3| 37424.11|286347.05|       286347.05|2011|San Francisco|\n",
      "| 16|   RICHARD CORRIEA|COMMANDER III, (P...|198778.01|    73478.2| 13957.65|286213.86|       286213.86|2011|San Francisco|\n",
      "| 17|          AMY HART|   DEPARTMENT HEAD V|268604.57|        0.0| 16115.86|284720.43|       284720.43|2011|San Francisco|\n",
      "| 18|    SEBASTIAN WONG|CAPTAIN, EMERGENC...|140546.87|  119397.26| 18625.08|278569.21|       278569.21|2011|San Francisco|\n",
      "| 19|        MARTY ROSS|BATTALION CHIEF, ...|168692.63|   69626.12| 38115.47|276434.22|       276434.22|2011|San Francisco|\n",
      "| 20|     ELLEN MOFFATT|ASSISTANT MEDICAL...|257510.59|     880.16|  16159.5|274550.25|       274550.25|2011|San Francisco|\n",
      "+---+------------------+--------------------+---------+-----------+---------+---------+----------------+----+-------------+\n",
      "only showing top 20 rows\n",
      "\n"
     ]
    }
   ],
   "source": [
    "salarydata = df.select(\n",
    "    \"Id\",\n",
    "    \"EmployeeName\",\n",
    "    \"JobTitle\",\n",
    "    \"BasePay\",\n",
    "    \"OvertimePay\",\n",
    "    \"OtherPay\",\n",
    "    \"TotalPay\",\n",
    "    \"TotalPayBenefits\",\n",
    "    \"Year\",\n",
    "    \"Agency\"\n",
    ")\n",
    "salarydata.show()"
   ]
  },
  {
   "cell_type": "code",
   "execution_count": null,
   "id": "7523bc8a",
   "metadata": {},
   "outputs": [
    {
     "name": "stdout",
     "output_type": "stream",
     "text": [
      "+---------+\n",
      "|namespace|\n",
      "+---------+\n",
      "|  default|\n",
      "| employee|\n",
      "|      iot|\n",
      "+---------+\n",
      "\n"
     ]
    }
   ],
   "source": [
    "spark.sql(\"SHOW DATABASES\").show()"
   ]
  },
  {
   "cell_type": "code",
   "execution_count": null,
   "id": "e078cb56",
   "metadata": {},
   "outputs": [
    {
     "data": {
      "text/plain": [
       "DataFrame[]"
      ]
     },
     "execution_count": 10,
     "metadata": {},
     "output_type": "execute_result"
    }
   ],
   "source": [
    "spark.sql(\"create database if not exists employee\")"
   ]
  },
  {
   "cell_type": "code",
   "execution_count": null,
   "id": "6008fb80",
   "metadata": {},
   "outputs": [
    {
     "name": "stderr",
     "output_type": "stream",
     "text": [
      "                                                                                \r"
     ]
    }
   ],
   "source": [
    "salarydata.write.mode(\"overwrite\").saveAsTable(\"employee.salaryinfo\")"
   ]
  }
 ],
 "metadata": {
  "kernelspec": {
   "display_name": "PySpark",
   "language": "python",
   "name": "pyspark"
  },
  "language_info": {
   "codemirror_mode": {
    "name": "ipython",
    "version": 3
   },
   "file_extension": ".py",
   "mimetype": "text/x-python",
   "name": "python",
   "nbconvert_exporter": "python",
   "pygments_lexer": "ipython3",
   "version": "3.10.12"
  }
 },
 "nbformat": 4,
 "nbformat_minor": 5
}
